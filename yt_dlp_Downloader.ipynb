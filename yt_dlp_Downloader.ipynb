{
  "nbformat": 4,
  "nbformat_minor": 0,
  "metadata": {
    "colab": {
      "name": "yt-dlp Downloader.ipynb",
      "provenance": [],
      "collapsed_sections": [],
      "include_colab_link": true
    },
    "kernelspec": {
      "name": "python3",
      "display_name": "Python 3"
    },
    "language_info": {
      "name": "python"
    }
  },
  "cells": [
    {
      "cell_type": "markdown",
      "metadata": {
        "id": "view-in-github",
        "colab_type": "text"
      },
      "source": [
        "<a href=\"https://colab.research.google.com/github/jakiya99/yt-dlp/blob/main/yt_dlp_Downloader.ipynb\" target=\"_parent\"><img src=\"https://colab.research.google.com/assets/colab-badge.svg\" alt=\"Open In Colab\"/></a>"
      ]
    },
    {
      "cell_type": "markdown",
      "metadata": {
        "id": "cJzY3hfpLwPj"
      },
      "source": [
        "# ⎝乡 <font color='greenr'> yt-dl Downloader</font>  <font color='lightblue'></font>   BY'-  <font color='red'> ツ  jคK¡ץA   ⎝⎝乡 </font>\n",
        "\n"
      ]
    },
    {
      "cell_type": "markdown",
      "metadata": {
        "id": "eqVwKRRQycuK"
      },
      "source": [
        "# 1.install <font color='yellow'> yt-dlp "
      ]
    },
    {
      "cell_type": "code",
      "metadata": {
        "id": "2M4JcOpUI2jM"
      },
      "source": [
        "!python3 -m pip install --upgrade pyinstaller mutagen pycryptodome"
      ],
      "execution_count": null,
      "outputs": []
    },
    {
      "cell_type": "code",
      "metadata": {
        "id": "anr4jq5aJtUu"
      },
      "source": [
        "!curl -L https://github.com/yt-dlp/yt-dlp/releases/latest/download/yt-dlp -o /usr/local/bin/yt-dlp"
      ],
      "execution_count": null,
      "outputs": []
    },
    {
      "cell_type": "code",
      "metadata": {
        "id": "Qclz2aJwJk_6"
      },
      "source": [
        "!chmod a+rx /usr/local/bin/yt-dlp"
      ],
      "execution_count": null,
      "outputs": []
    },
    {
      "cell_type": "markdown",
      "metadata": {
        "id": "SCm4e-K2NWEn"
      },
      "source": [
        "#2.Paste <font color='orange'>  link  <img src='https://iconarchive.com/download/i99352/dtafalonso/android-lollipop/Downloads.ico' height=\"100\" alt=\"RcloneLab\"/>"
      ]
    },
    {
      "cell_type": "code",
      "metadata": {
        "id": "MXCdtobvKD_a"
      },
      "source": [
        "!yt-dlp -f FormatID --allow-unplayable-formats \".mpd link\" -o audio.mp4"
      ],
      "execution_count": null,
      "outputs": []
    }
  ]
}